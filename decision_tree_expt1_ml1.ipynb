{
  "nbformat": 4,
  "nbformat_minor": 0,
  "metadata": {
    "colab": {
      "provenance": [],
      "include_colab_link": true
    },
    "kernelspec": {
      "name": "python3",
      "display_name": "Python 3"
    },
    "language_info": {
      "name": "python"
    }
  },
  "cells": [
    {
      "cell_type": "markdown",
      "metadata": {
        "id": "view-in-github",
        "colab_type": "text"
      },
      "source": [
        "<a href=\"https://colab.research.google.com/github/drashtikshah/Machine-Learning/blob/main/decision_tree_expt1_ml1.ipynb\" target=\"_parent\"><img src=\"https://colab.research.google.com/assets/colab-badge.svg\" alt=\"Open In Colab\"/></a>"
      ]
    },
    {
      "cell_type": "code",
      "execution_count": null,
      "metadata": {
        "id": "vXUlya2nxM_h"
      },
      "outputs": [],
      "source": [
        "#algorithm:\n",
        "   #1.node class.........constraints\n",
        "   #2.tree class\n",
        "   #3.bulid tree\n",
        "   #4.get_best_split\n",
        "   #5.split\n",
        "   #6.entropy gain\n",
        "   #7(a) entropy (b)gini\n",
        "   #8.leaf\n",
        "   #9.print tree\n",
        "   #10.fit\n",
        "   #11.predict\n",
        "   #12.scipy"
      ]
    },
    {
      "cell_type": "markdown",
      "source": [
        "importing libraries"
      ],
      "metadata": {
        "id": "Z-M22JR43Ae-"
      }
    },
    {
      "cell_type": "code",
      "source": [
        "import numpy as np\n",
        "import pandas as pd"
      ],
      "metadata": {
        "id": "PBRslCBn2-eu"
      },
      "execution_count": null,
      "outputs": []
    },
    {
      "cell_type": "markdown",
      "source": [
        "importing csv file"
      ],
      "metadata": {
        "id": "RAiBj3m43GgG"
      }
    },
    {
      "cell_type": "code",
      "source": [
        "df=pd.read_csv(\"/content/PlayTennis (1).csv\")\n",
        "print(df)"
      ],
      "metadata": {
        "colab": {
          "base_uri": "https://localhost:8080/"
        },
        "id": "PNouX0Ab3FxG",
        "outputId": "066d974b-636b-4d92-acf8-e645dde417b4"
      },
      "execution_count": null,
      "outputs": [
        {
          "output_type": "stream",
          "name": "stdout",
          "text": [
            "     outlook  temp humidity  windy play\n",
            "0      sunny   hot     high  False   no\n",
            "1      sunny   hot     high   True   no\n",
            "2   overcast   hot     high  False  yes\n",
            "3      rainy  mild     high  False  yes\n",
            "4      rainy  cool   normal  False  yes\n",
            "5      rainy  cool   normal   True   no\n",
            "6   overcast  cool   normal   True  yes\n",
            "7      sunny  mild     high  False   no\n",
            "8      sunny  cool   normal  False  yes\n",
            "9      rainy  mild   normal  False  yes\n",
            "10     sunny  mild   normal   True  yes\n",
            "11  overcast  mild     high   True  yes\n",
            "12  overcast   hot   normal  False  yes\n",
            "13     rainy  mild     high   True   no\n"
          ]
        }
      ]
    },
    {
      "cell_type": "code",
      "source": [
        "#SPLITTING THE DATASET INTO LABELS AND FEATURES\n",
        "X = df.iloc[:, :-1]                                  #select all rows but your first column will be excluded.\n",
        "y = df.iloc[:, -1]                                     #x is the arttibute and y is the target concept\n",
        "print(X)\n",
        "print(y)"
      ],
      "metadata": {
        "colab": {
          "base_uri": "https://localhost:8080/"
        },
        "id": "MiD7ThN2_eGf",
        "outputId": "da7cc341-94c3-4811-d10b-149fda204de6"
      },
      "execution_count": null,
      "outputs": [
        {
          "output_type": "stream",
          "name": "stdout",
          "text": [
            "     outlook  temp humidity  windy\n",
            "0      sunny   hot     high  False\n",
            "1      sunny   hot     high   True\n",
            "2   overcast   hot     high  False\n",
            "3      rainy  mild     high  False\n",
            "4      rainy  cool   normal  False\n",
            "5      rainy  cool   normal   True\n",
            "6   overcast  cool   normal   True\n",
            "7      sunny  mild     high  False\n",
            "8      sunny  cool   normal  False\n",
            "9      rainy  mild   normal  False\n",
            "10     sunny  mild   normal   True\n",
            "11  overcast  mild     high   True\n",
            "12  overcast   hot   normal  False\n",
            "13     rainy  mild     high   True\n",
            "0      no\n",
            "1      no\n",
            "2     yes\n",
            "3     yes\n",
            "4     yes\n",
            "5      no\n",
            "6     yes\n",
            "7      no\n",
            "8     yes\n",
            "9     yes\n",
            "10    yes\n",
            "11    yes\n",
            "12    yes\n",
            "13     no\n",
            "Name: play, dtype: object\n"
          ]
        }
      ]
    },
    {
      "cell_type": "markdown",
      "source": [
        "creating class node"
      ],
      "metadata": {
        "id": "GJRCnY3l4a9O"
      }
    },
    {
      "cell_type": "code",
      "source": [
        "import numpy as np                                                       #measure of disorder or impurity in a node-entropy\n",
        "\n",
        "def entropy(s):\n",
        "    counts = np.bincount(s)\n",
        "    percentages = counts / len(s)\n",
        "\n",
        "    entropy = 0\n",
        "    for pct in percentages:\n",
        "        if pct > 0:\n",
        "            entropy += pct * np.log2(pct)\n",
        "    return -entropy"
      ],
      "metadata": {
        "id": "L-l6nyK1Djsw"
      },
      "execution_count": null,
      "outputs": []
    },
    {
      "cell_type": "code",
      "source": [
        "def __init__(self, purityp, exthreshold, maxdepth=10):\n",
        "        self.purity = purityp\n",
        "        self.exthreshold = exthreshold\n",
        "        self.maxdepth = maxdepth\n"
      ],
      "metadata": {
        "id": "6m25ahan9Y9H"
      },
      "execution_count": null,
      "outputs": []
    },
    {
      "cell_type": "code",
      "source": [
        "def train(self, X, Y):\n",
        "        ''' Train Decision Tree using the given\n",
        "            X [m x d] data matrix and Y labels matrix\n",
        "            Input:\n",
        "            ------\n",
        "            X: [m x d] a data matrix of m d-dimensional examples.\n",
        "            Y: [m x 1] a label vector.\n",
        "\n",
        "            Returns:\n",
        "            -----------\n",
        "            Nothing\n",
        "        '''\n",
        "        nexamples, nfeatures = X.shape\n",
        "        self.tree = self.build_tree(X,Y,self.maxdepth)"
      ],
      "metadata": {
        "id": "Ps_-MmVL9deX"
      },
      "execution_count": null,
      "outputs": []
    },
    {
      "cell_type": "code",
      "source": [
        "def build_tree(self, X, Y, depth):\n",
        "        \"\"\"\n",
        "            Function is used to recursively build the decision Tree\n",
        "\n",
        "            Input\n",
        "            -----\n",
        "            X: [m x d] a data matrix of m d-dimensional examples.\n",
        "            Y: [m x 1] a label vector.\n",
        "\n",
        "            Returns\n",
        "            -------\n",
        "            root node of the built tree...\n",
        "        \"\"\"\n",
        "        nexamples, nfeatures = X.shape\n",
        "        klasses = np.unique(Y)\n",
        "\n",
        "        MostOccuringClassInY = pd.value_counts(Y).index[0]\n",
        "        #Purity Of CurrentData\n",
        "        Purity = pd.value_counts(Y).max() / len(Y)\n"
      ],
      "metadata": {
        "id": "a8_w8X599mHY"
      },
      "execution_count": null,
      "outputs": []
    },
    {
      "cell_type": "code",
      "source": [
        "#printing the tree\n",
        "def print_tree(self):\n",
        "        \"\"\"\n",
        "        Prints the whole tree from the current node to the bottom\n",
        "        \"\"\"\n",
        "        self.print_info()\n",
        "\n",
        "        if self.left is not None:\n",
        "            self.left.print_tree()\n",
        "\n",
        "        if self.right is not None:\n",
        "            self.right.print_tree()"
      ],
      "metadata": {
        "id": "Iquqxz4oEVdP"
      },
      "execution_count": null,
      "outputs": []
    },
    {
      "cell_type": "code",
      "source": [
        "#predictions\n",
        "def predict(self, X):                               #x=np.dataframe\n",
        "        \"\"\"\n",
        "        Batch prediction method\n",
        "        \"\"\"\n",
        "        predictions = []\n",
        "\n",
        "        for _, x in X.iterrows():\n",
        "            values = {}\n",
        "            for feature in self.features:\n",
        "                values.update({feature: x[feature]})\n",
        "\n",
        "            predictions.append(self.predict_obs(values))\n",
        "\n",
        "        return predictions"
      ],
      "metadata": {
        "id": "ajHTExrdE7nf"
      },
      "execution_count": null,
      "outputs": []
    },
    {
      "cell_type": "code",
      "source": [
        "class DecisionTree:\n",
        "    ''' Implements the Decision Tree For Classification... '''\n",
        "    def __init(self):\n",
        "        self.tree = None\n",
        "        self.purity = 0.0\n",
        "        self.exthreshold = 0\n",
        "        self.maxdepth = 0\n"
      ],
      "metadata": {
        "id": "JHpIvZ4R9La3"
      },
      "execution_count": null,
      "outputs": []
    }
  ]
}